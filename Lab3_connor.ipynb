{
 "cells": [
  {
   "cell_type": "code",
   "execution_count": 2,
   "metadata": {
    "collapsed": false
   },
   "outputs": [],
   "source": [
    "import numpy as np\n",
    "import matplotlib.pyplot as plt\n",
    "from scipy.linalg import orth\n",
    "from scipy.misc import imread\n",
    "import sympy"
   ]
  },
  {
   "cell_type": "code",
   "execution_count": 3,
   "metadata": {
    "collapsed": false
   },
   "outputs": [
    {
     "name": "stdout",
     "output_type": "stream",
     "text": [
      "[[ 1  2  3  4]\n",
      " [ 0  1  0  1]\n",
      " [ 1  4  3  6]\n",
      " [ 2 11  6 15]]\n",
      "(Matrix([\n",
      "[1, 0, 3, 2],\n",
      "[0, 1, 0, 1],\n",
      "[0, 0, 0, 0],\n",
      "[0, 0, 0, 0]]), [0, 1])\n"
     ]
    }
   ],
   "source": [
    "v1 = np.array([1,2,3,4])\n",
    "v2 = np.array([0,1,0,1])\n",
    "v3 = np.array([1,4,3,6])\n",
    "v4 = np.array([2,11,6,15])\n",
    "#https://docs.scipy.org/doc/numpy/reference/generated/numpy.vstack.html\n",
    "matrix = np.vstack((v1,v2,v3,v4))\n",
    "print(matrix)\n",
    "#http://docs.sympy.org/dev/tutorial/matrices.html\n",
    "reduce = sympy.Matrix(matrix).rref()\n",
    "print(reduce)"
   ]
  },
  {
   "cell_type": "code",
   "execution_count": 4,
   "metadata": {
    "collapsed": false
   },
   "outputs": [
    {
     "name": "stdout",
     "output_type": "stream",
     "text": [
      "(Matrix([\n",
      "[1, 0, 0,  -12],\n",
      "[0, 1, 0,    1],\n",
      "[0, 0, 1, 14/3],\n",
      "[0, 0, 0,    0],\n",
      "[0, 0, 0,    0]]), [0, 1, 2])\n"
     ]
    }
   ],
   "source": [
    "#Problem 1 number 1\n",
    "not_in_s = np.array([3,17,6,9])\n",
    "matrix2 = np.vstack((matrix,not_in_s))\n",
    "reduce2 = sympy.Matrix(matrix2).rref()\n",
    "print(reduce2)\n",
    "#because reduced matrix changed vector not_in_s is not in s\n",
    "#to check if a vector is in s we would add it to the matrix and see if the \n",
    "#reduced matrix equaled the original reduced matrix"
   ]
  },
  {
   "cell_type": "code",
   "execution_count": 5,
   "metadata": {
    "collapsed": false
   },
   "outputs": [
    {
     "name": "stdout",
     "output_type": "stream",
     "text": [
      "(Matrix([\n",
      "[1, 0, 3, 2],\n",
      "[0, 1, 0, 1],\n",
      "[0, 0, 0, 0],\n",
      "[0, 0, 0, 0],\n",
      "[0, 0, 0, 0]]), [0, 1])\n"
     ]
    }
   ],
   "source": [
    "in_s = np.array([2,6,6,10])\n",
    "matrix3 = np.vstack((matrix, in_s))\n",
    "reduce3 = sympy.Matrix(matrix3).rref()\n",
    "print(reduce3)\n",
    "#because vector new vector is in span rref does not change from original"
   ]
  },
  {
   "cell_type": "code",
   "execution_count": 6,
   "metadata": {
    "collapsed": false
   },
   "outputs": [
    {
     "name": "stdout",
     "output_type": "stream",
     "text": [
      "2\n"
     ]
    }
   ],
   "source": [
    "#Problem 1 number 2\n",
    "print(np.linalg.matrix_rank(matrix))"
   ]
  },
  {
   "cell_type": "code",
   "execution_count": 7,
   "metadata": {
    "collapsed": false
   },
   "outputs": [
    {
     "name": "stdout",
     "output_type": "stream",
     "text": [
      "[[-0.24011927  0.8581727 ]\n",
      " [-0.05990306 -0.29094143]\n",
      " [-0.35992538  0.27628983]\n",
      " [-0.89955994 -0.32024463]]\n"
     ]
    }
   ],
   "source": [
    "#Problem 1 number 3\n",
    "print(orth(matrix))"
   ]
  },
  {
   "cell_type": "code",
   "execution_count": 8,
   "metadata": {
    "collapsed": false
   },
   "outputs": [
    {
     "name": "stdout",
     "output_type": "stream",
     "text": [
      "[30  6]\n"
     ]
    }
   ],
   "source": [
    "#Problem 1 number 4\n",
    "z = np.array([1,0,0,0])\n",
    "matrix4 = np.vstack((v1,v2)).transpose()\n",
    "matrix5 = (matrix4.transpose().dot(matrix4))\n",
    "matrix6 = matrix5.dot(matrix4.transpose())\n",
    "minx_s = matrix6[:, 0]\n",
    "print(minx_s)\n",
    "#print(np.linalg.inv(matrix5))\n",
    "#print(matrix4 * matrix4.transpose())\n",
    "#print(np.linalg.inv((matrix4.transpose() * matrix4)))"
   ]
  },
  {
   "cell_type": "code",
   "execution_count": 9,
   "metadata": {
    "collapsed": true
   },
   "outputs": [],
   "source": [
    "#http://sebastianraschka.com/Articles/2014_pca_step_by_step.html"
   ]
  },
  {
   "cell_type": "code",
   "execution_count": 10,
   "metadata": {
    "collapsed": false
   },
   "outputs": [
    {
     "ename": "IOError",
     "evalue": "[Errno 2] No such file or directory: '../../Downloads/mona_lisa.png'",
     "output_type": "error",
     "traceback": [
      "\u001b[0;31m---------------------------------------------------------------------------\u001b[0m",
      "\u001b[0;31mIOError\u001b[0m                                   Traceback (most recent call last)",
      "\u001b[0;32m<ipython-input-10-b2cf01a11e6d>\u001b[0m in \u001b[0;36m<module>\u001b[0;34m()\u001b[0m\n\u001b[0;32m----> 1\u001b[0;31m \u001b[0mmona_lisa\u001b[0m \u001b[0;34m=\u001b[0m \u001b[0mimread\u001b[0m\u001b[0;34m(\u001b[0m\u001b[0;34m'../../Downloads/mona_lisa.png'\u001b[0m\u001b[0;34m,\u001b[0m \u001b[0mflatten\u001b[0m\u001b[0;34m=\u001b[0m\u001b[0mTrue\u001b[0m\u001b[0;34m)\u001b[0m\u001b[0;34m\u001b[0m\u001b[0m\n\u001b[0m\u001b[1;32m      2\u001b[0m \u001b[0;34m\u001b[0m\u001b[0m\n\u001b[1;32m      3\u001b[0m \u001b[0mplt\u001b[0m\u001b[0;34m.\u001b[0m\u001b[0mimshow\u001b[0m\u001b[0;34m(\u001b[0m\u001b[0mmona_lisa\u001b[0m\u001b[0;34m,\u001b[0m \u001b[0mcmap\u001b[0m\u001b[0;34m=\u001b[0m\u001b[0;34m'Greys_r'\u001b[0m\u001b[0;34m)\u001b[0m\u001b[0;34m\u001b[0m\u001b[0m\n\u001b[1;32m      4\u001b[0m \u001b[0;34m\u001b[0m\u001b[0m\n\u001b[1;32m      5\u001b[0m \u001b[0mplt\u001b[0m\u001b[0;34m.\u001b[0m\u001b[0mshow\u001b[0m\u001b[0;34m(\u001b[0m\u001b[0;34m)\u001b[0m\u001b[0;34m\u001b[0m\u001b[0m\n",
      "\u001b[0;32m/Users/michaelspearing/anaconda/lib/python2.7/site-packages/scipy/misc/pilutil.pyc\u001b[0m in \u001b[0;36mimread\u001b[0;34m(name, flatten, mode)\u001b[0m\n\u001b[1;32m    152\u001b[0m     \"\"\"\n\u001b[1;32m    153\u001b[0m \u001b[0;34m\u001b[0m\u001b[0m\n\u001b[0;32m--> 154\u001b[0;31m     \u001b[0mim\u001b[0m \u001b[0;34m=\u001b[0m \u001b[0mImage\u001b[0m\u001b[0;34m.\u001b[0m\u001b[0mopen\u001b[0m\u001b[0;34m(\u001b[0m\u001b[0mname\u001b[0m\u001b[0;34m)\u001b[0m\u001b[0;34m\u001b[0m\u001b[0m\n\u001b[0m\u001b[1;32m    155\u001b[0m     \u001b[0;32mreturn\u001b[0m \u001b[0mfromimage\u001b[0m\u001b[0;34m(\u001b[0m\u001b[0mim\u001b[0m\u001b[0;34m,\u001b[0m \u001b[0mflatten\u001b[0m\u001b[0;34m=\u001b[0m\u001b[0mflatten\u001b[0m\u001b[0;34m,\u001b[0m \u001b[0mmode\u001b[0m\u001b[0;34m=\u001b[0m\u001b[0mmode\u001b[0m\u001b[0;34m)\u001b[0m\u001b[0;34m\u001b[0m\u001b[0m\n\u001b[1;32m    156\u001b[0m \u001b[0;34m\u001b[0m\u001b[0m\n",
      "\u001b[0;32m/Users/michaelspearing/anaconda/lib/python2.7/site-packages/PIL/Image.pyc\u001b[0m in \u001b[0;36mopen\u001b[0;34m(fp, mode)\u001b[0m\n\u001b[1;32m   2278\u001b[0m             \u001b[0mfilename\u001b[0m \u001b[0;34m=\u001b[0m \u001b[0mstr\u001b[0m\u001b[0;34m(\u001b[0m\u001b[0mfp\u001b[0m\u001b[0;34m.\u001b[0m\u001b[0mresolve\u001b[0m\u001b[0;34m(\u001b[0m\u001b[0;34m)\u001b[0m\u001b[0;34m)\u001b[0m\u001b[0;34m\u001b[0m\u001b[0m\n\u001b[1;32m   2279\u001b[0m     \u001b[0;32mif\u001b[0m \u001b[0mfilename\u001b[0m\u001b[0;34m:\u001b[0m\u001b[0;34m\u001b[0m\u001b[0m\n\u001b[0;32m-> 2280\u001b[0;31m         \u001b[0mfp\u001b[0m \u001b[0;34m=\u001b[0m \u001b[0mbuiltins\u001b[0m\u001b[0;34m.\u001b[0m\u001b[0mopen\u001b[0m\u001b[0;34m(\u001b[0m\u001b[0mfilename\u001b[0m\u001b[0;34m,\u001b[0m \u001b[0;34m\"rb\"\u001b[0m\u001b[0;34m)\u001b[0m\u001b[0;34m\u001b[0m\u001b[0m\n\u001b[0m\u001b[1;32m   2281\u001b[0m \u001b[0;34m\u001b[0m\u001b[0m\n\u001b[1;32m   2282\u001b[0m     \u001b[0;32mtry\u001b[0m\u001b[0;34m:\u001b[0m\u001b[0;34m\u001b[0m\u001b[0m\n",
      "\u001b[0;31mIOError\u001b[0m: [Errno 2] No such file or directory: '../../Downloads/mona_lisa.png'"
     ]
    }
   ],
   "source": [
    "mona_lisa = imread('../../Downloads/mona_lisa.png', flatten=True)\n",
    "\n",
    "plt.imshow(mona_lisa, cmap='Greys_r')\n",
    "\n",
    "plt.show()\n",
    "\n",
    "print(mona_lisa.shape)\n"
   ]
  },
  {
   "cell_type": "code",
   "execution_count": 11,
   "metadata": {
    "collapsed": false
   },
   "outputs": [
    {
     "ename": "SyntaxError",
     "evalue": "invalid syntax (<ipython-input-11-ee75919c25a1>, line 9)",
     "output_type": "error",
     "traceback": [
      "\u001b[0;36m  File \u001b[0;32m\"<ipython-input-11-ee75919c25a1>\"\u001b[0;36m, line \u001b[0;32m9\u001b[0m\n\u001b[0;31m    rank2_approx = u @ S @ v\u001b[0m\n\u001b[0m                     ^\u001b[0m\n\u001b[0;31mSyntaxError\u001b[0m\u001b[0;31m:\u001b[0m invalid syntax\n"
     ]
    }
   ],
   "source": [
    "u, s, v = np.linalg.svd(mona_lisa)\n",
    "\n",
    "rank2 = np.copy(s)\n",
    "rank2[2:] = 0\n",
    "\n",
    "S = np.zeros(mona_lisa.shape)\n",
    "result = np.diag(rank2)\n",
    "S[:400, :400] = result\n",
    "rank2_approx = u @ S @ v\n",
    "plt.imshow(rank2_approx, cmap='Greys_r')\n",
    "plt.show()"
   ]
  },
  {
   "cell_type": "code",
   "execution_count": 11,
   "metadata": {
    "collapsed": false
   },
   "outputs": [
    {
     "data": {
      "image/png": "[encoded data removed]",
      "text/plain": [
       "<matplotlib.figure.Figure at 0x24c8afc1518>"
      ]
     },
     "metadata": {},
     "output_type": "display_data"
    }
   ],
   "source": [
    "rank5 = np.copy(s)\n",
    "rank5[5:] = 0\n",
    "\n",
    "S = np.zeros(mona_lisa.shape)\n",
    "result = np.diag(rank5)\n",
    "S[:400, :400] = result\n",
    "rank5_approx = u @ S @ v\n",
    "plt.imshow(rank5_approx, cmap='Greys_r')\n",
    "plt.show()"
   ]
  },
  {
   "cell_type": "code",
   "execution_count": 1,
   "metadata": {
    "collapsed": false
   },
   "outputs": [
    {
     "ename": "SyntaxError",
     "evalue": "invalid syntax (<ipython-input-1-8785e8df66d5>, line 7)",
     "output_type": "error",
     "traceback": [
      "\u001b[0;36m  File \u001b[0;32m\"<ipython-input-1-8785e8df66d5>\"\u001b[0;36m, line \u001b[0;32m7\u001b[0m\n\u001b[0;31m    rank10_approx = u @ S @ v\u001b[0m\n\u001b[0m                      ^\u001b[0m\n\u001b[0;31mSyntaxError\u001b[0m\u001b[0;31m:\u001b[0m invalid syntax\n"
     ]
    }
   ],
   "source": [
    "rank10 = np.copy(s)\n",
    "rank10[10:] = 0\n",
    "\n",
    "S = np.zeros(mona_lisa.shape)\n",
    "result = np.diag(rank10)\n",
    "S[:400, :400] = result\n",
    "rank10_approx = u @ S @ v\n",
    "plt.imshow(rank10_approx, cmap='Greys_r')\n",
    "plt.show()"
   ]
  },
  {
   "cell_type": "code",
   "execution_count": 19,
   "metadata": {
    "collapsed": false
   },
   "outputs": [
    {
     "name": "stdout",
     "output_type": "stream",
     "text": [
      "Rank 2: 19296 bits\n",
      "Rank 5: 48240 bits\n",
      "Rank 10: 96480 bits\n"
     ]
    }
   ],
   "source": [
    "#Bits is compressed Mona Lisa?\n",
    "rank2 = 603 * 400 * 16 * 2 / 400\n",
    "rank5 = 603 * 400 * 16 * 5 / 400\n",
    "rank10 = 603 * 400 * 16 * 10 / 400\n",
    "print(\"Rank 2:\", int(rank2), \"bits\")\n",
    "print(\"Rank 5:\", int(rank5), \"bits\")\n",
    "print(\"Rank 10:\", int(rank10), \"bits\")"
   ]
  },
  {
   "cell_type": "code",
   "execution_count": null,
   "metadata": {
    "collapsed": true
   },
   "outputs": [],
   "source": []
  }
 ],
 "metadata": {
  "anaconda-cloud": {},
  "kernelspec": {
   "display_name": "Python [default]",
   "language": "python",
   "name": "python2"
  },
  "language_info": {
   "codemirror_mode": {
    "name": "ipython",
    "version": 2
   },
   "file_extension": ".py",
   "mimetype": "text/x-python",
   "name": "python",
   "nbconvert_exporter": "python",
   "pygments_lexer": "ipython2",
   "version": "2.7.12"
  }
 },
 "nbformat": 4,
 "nbformat_minor": 1
}
