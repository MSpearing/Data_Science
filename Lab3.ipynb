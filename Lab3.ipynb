{
 "cells": [
  {
   "cell_type": "code",
   "execution_count": 22,
   "metadata": {
    "collapsed": false
   },
   "outputs": [],
   "source": [
    "import numpy as np\n",
    "from scipy.linalg import orth\n",
    "import sympy"
   ]
  },
  {
   "cell_type": "code",
   "execution_count": 4,
   "metadata": {
    "collapsed": false
   },
   "outputs": [
    {
     "name": "stdout",
     "output_type": "stream",
     "text": [
      "(Matrix([\n",
      "[1.0,   0, 3.0, 2.0],\n",
      "[  0, 1.0,   0, 1.0],\n",
      "[  0,   0,   0,   0],\n",
      "[  0,   0,   0,   0]]), [0, 1])\n"
     ]
    }
   ],
   "source": [
    "v1 = np.array([1,2,3,4])\n",
    "v2 = np.array([0,1,0,1])\n",
    "v3 = np.array([1,4,3,6])\n",
    "v4 = np.array([2,11,6,15])\n",
    "#https://docs.scipy.org/doc/numpy/reference/generated/numpy.vstack.html\n",
    "matrix = np.vstack((v1,v2,v3,v4))\n",
    "#http://docs.sympy.org/dev/tutorial/matrices.html\n",
    "reduce = sympy.Matrix(matrix).rref()\n",
    "print(reduce)"
   ]
  },
  {
   "cell_type": "code",
   "execution_count": 28,
   "metadata": {
    "collapsed": false
   },
   "outputs": [
    {
     "name": "stdout",
     "output_type": "stream",
     "text": [
      "(Matrix([\n",
      "[1.0,   0,   0,            -12.0],\n",
      "[  0, 1.0,   0,              1.0],\n",
      "[  0,   0, 1.0, 4.66666666666667],\n",
      "[  0,   0,   0,                0],\n",
      "[  0,   0,   0,                0]]), [0, 1, 2])\n"
     ]
    }
   ],
   "source": [
    "#Problem 1 number 1\n",
    "not_in_s = np.array([3,17,6,9])\n",
    "matrix2 = np.vstack((matrix, not_in_s))\n",
    "reduce2 = sympy.Matrix(matrix2).rref()\n",
    "print(reduce2)\n",
    "#because reduced matrix changed vector not_in_s is not in s\n",
    "#to check if a vector is in s we would add it to the matrix and see if the \n",
    "#reduced matrix equaled the original reduced matrix"
   ]
  },
  {
   "cell_type": "code",
   "execution_count": 25,
   "metadata": {
    "collapsed": false
   },
   "outputs": [
    {
     "name": "stdout",
     "output_type": "stream",
     "text": [
      "2\n"
     ]
    }
   ],
   "source": [
    "#Problem 1 number 2\n",
    "print(np.linalg.matrix_rank(matrix))"
   ]
  },
  {
   "cell_type": "code",
   "execution_count": 23,
   "metadata": {
    "collapsed": false
   },
   "outputs": [
    {
     "name": "stdout",
     "output_type": "stream",
     "text": [
      "[[-0.24011927  0.8581727 ]\n",
      " [-0.05990306 -0.29094143]\n",
      " [-0.35992538  0.27628983]\n",
      " [-0.89955994 -0.32024463]]\n"
     ]
    }
   ],
   "source": [
    "#Problem 1 number 3\n",
    "print(orth(matrix))"
   ]
  },
  {
   "cell_type": "code",
   "execution_count": null,
   "metadata": {
    "collapsed": true
   },
   "outputs": [],
   "source": [
    "http://sebastianraschka.com/Articles/2014_pca_step_by_step.html"
   ]
  }
 ],
 "metadata": {
  "anaconda-cloud": {},
  "kernelspec": {
   "display_name": "Python [default]",
   "language": "python",
   "name": "python3"
  },
  "language_info": {
   "codemirror_mode": {
    "name": "ipython",
    "version": 3
   },
   "file_extension": ".py",
   "mimetype": "text/x-python",
   "name": "python",
   "nbconvert_exporter": "python",
   "pygments_lexer": "ipython3",
   "version": "3.5.2"
  }
 },
 "nbformat": 4,
 "nbformat_minor": 1
}
