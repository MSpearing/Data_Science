{
 "cells": [
  {
   "cell_type": "code",
   "execution_count": 1,
   "metadata": {
    "collapsed": false
   },
   "outputs": [
    {
     "ename": "SyntaxError",
     "evalue": "EOL while scanning string literal (<ipython-input-1-4dca23cc2863>, line 1)",
     "output_type": "error",
     "traceback": [
      "\u001b[0;36m  File \u001b[0;32m\"<ipython-input-1-4dca23cc2863>\"\u001b[0;36m, line \u001b[0;32m1\u001b[0m\n\u001b[0;31m    str = \"-2\u001b[0m\n\u001b[0m            ^\u001b[0m\n\u001b[0;31mSyntaxError\u001b[0m\u001b[0;31m:\u001b[0m EOL while scanning string literal\n"
     ]
    }
   ],
   "source": [
    "str = \"-2,0,1,2,2,3,2,1,1,0,-2,-3,-2,-3,-4,-3,-1,-1,0,0,2,1,1,1,0,0,-1,-1,-1,-1,-1,-1,0,0,1,1,0,1,1,0,0,-2,-2,-2,2,2,-2,3,15,11,2,9,-12,-20,102,540,592,372,803,761,434,572,423,80,49,753,2645,4482,3474,413,-1328,-1728,-2646,-3627,-3979,-4196,-3727,-2210,-626,316,1090,1947,2444,2659,2637,2119,1246,519,-73,-826,-1473,-1813,-1864,-1776,-1584,-1208,-810,-432,-47,371,703,859,919,863,747,594,411,164,-128,-362,-560,-671,-698,-677,-639,-520,-261,23,245,381,470,509,470,354,203,59,-88,-232,-352,-435,-449,-414,-365,-285,-161,-11,107,176,202,198,184,143,84,9,-55,-92,-122,-151,-187,-182,-125,-47,16,48,78,109,137,147,135,92,31,-15,-44,-57,-54,-47,-39,-21,17,57,64,44,18,1,-1,3,7,24,73,146,187,149,40,-74,-147,-172,-169,-152,-106,-13,121,245,304,290,227,162,112,68,3,-73,-123,-135,-118,-92,-68,-47,-18,28,75,106,103,79,57,43,36,25,32,57,80,86,76,63,63,80,84,57,21,-2,-2,12,39,69,97,126,150,152,123,66,-1,-35,-42,-33,-22,-35,-46,-58,-59,-28,16,53,70,88,92,82,65,\""
   ]
  },
  {
   "cell_type": "code",
   "execution_count": null,
   "metadata": {
    "collapsed": true
   },
   "outputs": [],
   "source": []
  }
 ],
 "metadata": {
  "anaconda-cloud": {},
  "kernelspec": {
   "display_name": "Python [default]",
   "language": "python",
   "name": "python2"
  },
  "language_info": {
   "codemirror_mode": {
    "name": "ipython",
    "version": 2
   },
   "file_extension": ".py",
   "mimetype": "text/x-python",
   "name": "python",
   "nbconvert_exporter": "python",
   "pygments_lexer": "ipython2",
   "version": "2.7.12"
  }
 },
 "nbformat": 4,
 "nbformat_minor": 1
}
