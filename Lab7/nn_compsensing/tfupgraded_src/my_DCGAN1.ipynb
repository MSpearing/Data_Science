{
 "cells": [
  {
   "cell_type": "code",
   "execution_count": null,
   "metadata": {
    "collapsed": false
   },
   "outputs": [],
   "source": [
    "cd /Users/adimold/Desktop/python_Systems/DCGAN_experiments/nn_compsensing/tfupgraded_src"
   ]
  },
  {
   "cell_type": "code",
   "execution_count": null,
   "metadata": {
    "collapsed": false
   },
   "outputs": [],
   "source": [
    "import tensorflow as tf\n",
    "import numpy as np\n",
    "import glob\n",
    "import os\n",
    "import sys\n",
    "import matplotlib.pyplot as plt\n",
    "%matplotlib inline\n",
    "import scipy.ndimage\n",
    "import dcgan_model\n",
    "import dcgan_utils\n",
    "import dcgan_ops\n",
    "import celebA_estimators\n"
   ]
  },
  {
   "cell_type": "code",
   "execution_count": null,
   "metadata": {
    "collapsed": false
   },
   "outputs": [],
   "source": [
    "# define the graph\n",
    "sess = tf.Session()\n",
    "z = tf.placeholder(tf.float32, shape=[64, 100], name = 'z')\n",
    "x_hat, restore_dict, restore_path = celebA_estimators.dcgan_gen(z, sess)\n"
   ]
  },
  {
   "cell_type": "code",
   "execution_count": null,
   "metadata": {
    "collapsed": true
   },
   "outputs": [],
   "source": [
    "# load variables\n",
    "restorer = tf.train.Saver(var_list=restore_dict)\n",
    "restorer.restore(sess, restore_path)"
   ]
  },
  {
   "cell_type": "code",
   "execution_count": null,
   "metadata": {
    "collapsed": false
   },
   "outputs": [],
   "source": [
    "# generate images\n",
    "#feed_dict = {z : np.random.randn(64, 100)}\n",
    "x = np.zeros((64,100))\n",
    "for i in range(100):\n",
    "    x[0][i] = 1\n",
    "feed_dict = {z : x}\n",
    "x_hat_val = sess.run(x_hat, feed_dict=feed_dict)"
   ]
  },
  {
   "cell_type": "code",
   "execution_count": null,
   "metadata": {
    "collapsed": false
   },
   "outputs": [],
   "source": [
    "# inspect\n",
    "im_idx = 3\n",
    "plt.imshow(dcgan_utils.inverse_transform(x_hat_val[im_idx, :]))"
   ]
  },
  {
   "cell_type": "code",
   "execution_count": null,
   "metadata": {
    "collapsed": true
   },
   "outputs": [],
   "source": [
    "# clean up\n",
    "sess.close()"
   ]
  },
  {
   "cell_type": "markdown",
   "metadata": {},
   "source": [
    "## Question 3"
   ]
  },
  {
   "cell_type": "code",
   "execution_count": null,
   "metadata": {
    "collapsed": false
   },
   "outputs": [],
   "source": [
    "# Question 3\n",
    "sess3 = tf.Session()\n",
    "\n",
    "# Import the image\n",
    "image_paths = glob.glob(os.path.join(\"../data\", \"L.jpg\"))\n",
    "image_path = image_paths[0]\n",
    "image = dcgan_utils.get_image(image_path, 108)\n",
    "plt.imshow(dcgan_utils.inverse_transform(image))\n",
    "plt.show()\n",
    "\n",
    "real = tf.placeholder(tf.float32, shape = [64,64,3], name=\"real\")\n",
    "real = image\n",
    "\n",
    "with tf.variable_scope(tf.get_variable_scope(),reuse=False) as scope:\n",
    "    z=tf.get_variable(name=\"z\", initializer=tf.random_uniform_initializer(minval=1,maxval=1,dtype=tf.float32), shape=[64, 100])\n",
    "    \n",
    "x_hat, restore_dict, restore_path = celebA_estimators.dcgan_gen(z, sess3)\n",
    "restorer = tf.train.Saver(var_list=restore_dict)\n",
    "restorer.restore(sess3, restore_path)\n",
    "\n",
    "# Create a Squared Loss Function\n",
    "squared_loss = tf.norm(dcgan_utils.inverse_transform(x_hat) - real)\n",
    "\n",
    "# Do Gradient Descent over z to minimize it in TF\n",
    "grad_desc = tf.train.GradientDescentOptimizer(.05)\n",
    "\n",
    "grad_desc = grad_desc.minimize(squared_loss)\n",
    "\n",
    "init = tf.global_variables_initializer()\n",
    "sess3.run(init)\n",
    "\n",
    "sess3.run(grad_desc)\n",
    "output = sess3.run(z)\n",
    "\n"
   ]
  },
  {
   "cell_type": "code",
   "execution_count": null,
   "metadata": {
    "collapsed": false
   },
   "outputs": [],
   "source": [
    "z_out = tf.placeholder(tf.float32,shape=[64,100])\n",
    "x_hat_out, restore_dict_out, restore_path_out = celebA_estimators.dcgan_gen(z_out, sess3)\n",
    "\n",
    "restorer_out = tf.train.Saver(var_list=restore_dict_out)\n",
    "restorer_out.restore(sess3, restore_path_out)\n",
    "\n",
    "x_hat_val_out = sess3.run(x_hat_out, feed_dict={z_out:output})\n",
    "print x_hat_val_out[0]\n",
    "plt.imshow(dcgan_utils.inverse_transform(x_hat_val_out[0]))\n",
    "plt.show()\n",
    "sess3.close()"
   ]
  },
  {
   "cell_type": "markdown",
   "metadata": {},
   "source": [
    "## Question 4"
   ]
  },
  {
   "cell_type": "code",
   "execution_count": null,
   "metadata": {
    "collapsed": false,
    "scrolled": false
   },
   "outputs": [],
   "source": [
    "# Question 4\n",
    "sess3 = tf.Session()\n",
    "\n",
    "# Import the image\n",
    "image_paths = glob.glob(os.path.join(\"../data\", \"L.jpg\"))\n",
    "image_path = image_paths[0]\n",
    "image = dcgan_utils.get_image(image_path, 108)\n",
    "plt.imshow(dcgan_utils.inverse_transform(image))\n",
    "plt.show()\n",
    "\n",
    "real = tf.placeholder(tf.float32, shape = [64,64,3], name=\"real\")\n",
    "real = image\n",
    "\n",
    "with tf.variable_scope(tf.get_variable_scope(),reuse=False) as scope:\n",
    "    z=tf.get_variable(name=\"z\", initializer=tf.random_uniform_initializer(minval=1,maxval=1,dtype=tf.float32), shape=[64, 100])\n",
    "    \n",
    "x_hat, restore_dict, restore_path = celebA_estimators.dcgan_gen(z, sess3)\n",
    "restorer = tf.train.Saver(var_list=restore_dict)\n",
    "restorer.restore(sess3, restore_path)\n",
    "\n",
    "# Create a Squared Loss Function\n",
    "squared_loss = tf.norm(dcgan_utils.inverse_transform(x_hat) - real)\n",
    "\n",
    "# Do Gradient Descent over z to minimize it in TF\n",
    "grad_desc = tf.train.GradientDescentOptimizer(.05)\n",
    "\n",
    "grad_desc = grad_desc.minimize(squared_loss)\n",
    "\n",
    "init = tf.global_variables_initializer()\n",
    "sess3.run(init)\n",
    "\n",
    "sess3.run(grad_desc)\n",
    "output = sess3.run(z)\n",
    "\n"
   ]
  },
  {
   "cell_type": "code",
   "execution_count": null,
   "metadata": {
    "collapsed": false
   },
   "outputs": [],
   "source": [
    "z_out = tf.placeholder(tf.float32,shape=[64,100])\n",
    "\n",
    "x_hat_out, restore_dict_out, restore_path_out = celebA_estimators.dcgan_gen(z_out, sess3)\n",
    "\n",
    "\n",
    "restorer_out = tf.train.Saver(var_list=restore_dict_out)\n",
    "restorer_out.restore(sess3, restore_path_out)\n",
    "\n",
    "x_hat_val_out = sess3.run(x_hat_out, feed_dict={z_out:output})\n",
    "plt.imshow(dcgan_utils.inverse_transform(x_hat_val_out[0]))\n",
    "plt.show()\n",
    "z1 = dcgan_utils.inverse_transform(x_hat_val_out[0])\n",
    "sess3.close()"
   ]
  },
  {
   "cell_type": "code",
   "execution_count": null,
   "metadata": {
    "collapsed": false
   },
   "outputs": [],
   "source": [
    "sess3 = tf.Session()\n",
    "\n",
    "# Import the image\n",
    "image_paths = glob.glob(os.path.join(\"../data\", \"M.jpg\"))\n",
    "image_path = image_paths[0]\n",
    "image = dcgan_utils.get_image(image_path, 108)\n",
    "plt.imshow(dcgan_utils.inverse_transform(image))\n",
    "plt.show()\n",
    "\n",
    "real = tf.placeholder(tf.float32, shape = [64,64,3], name=\"real\")\n",
    "real = image\n",
    "\n",
    "with tf.variable_scope(tf.get_variable_scope(),reuse=False) as scope:\n",
    "    y=tf.get_variable(name=\"y\", initializer=tf.random_uniform_initializer(minval=1,maxval=1,dtype=tf.float32), shape=[64, 100])\n",
    "    with tf.variable_scope(\"inner\"):\n",
    "        x_hat, restore_dict, restore_path = celebA_estimators.dcgan_gen(y, sess3)\n",
    "        #restorer = tf.train.Saver(var_list=restore_dict)\n",
    "        #restorer.restore(sess3, restore_path)\n",
    "\n",
    "        # Create a Squared Loss Function\n",
    "        squared_loss = tf.norm(dcgan_utils.inverse_transform(x_hat) - real)\n",
    "\n",
    "        # Do Gradient Descent over z to minimize it in TF\n",
    "        grad_desc = tf.train.GradientDescentOptimizer(.05)\n",
    "\n",
    "        grad_desc = grad_desc.minimize(squared_loss)\n",
    "\n",
    "init = tf.global_variables_initializer()\n",
    "sess3.run(init)\n",
    "\n",
    "sess3.run(grad_desc)\n",
    "output = sess3.run(y)\n",
    "\n"
   ]
  },
  {
   "cell_type": "code",
   "execution_count": null,
   "metadata": {
    "collapsed": false
   },
   "outputs": [],
   "source": [
    "z_out = tf.placeholder(tf.float32,shape=[64,100])\n",
    "\n",
    "x_hat_out, restore_dict_out, restore_path_out = celebA_estimators.dcgan_gen(z_out, sess3)\n",
    "\n",
    "\n",
    "restorer_out = tf.train.Saver(var_list=restore_dict_out)\n",
    "restorer_out.restore(sess3, restore_path_out)\n",
    "\n",
    "x_hat_val_out = sess3.run(x_hat_out, feed_dict={z_out:output})\n",
    "print x_hat_val_out[0]\n",
    "plt.imshow(dcgan_utils.inverse_transform(x_hat_val_out[0]))\n",
    "plt.show()\n",
    "z2 = dcgan_utils.inverse_transform(x_hat_val_out[0])\n",
    "sess3.close()"
   ]
  },
  {
   "cell_type": "code",
   "execution_count": null,
   "metadata": {
    "collapsed": false,
    "scrolled": false
   },
   "outputs": [],
   "source": [
    "x = 0\n",
    "while x < 1:\n",
    "    newVal =(x * z1 + (1-x)*z2)\n",
    "    plt.imshow(dcgan_utils.inverse_transform(newVal))\n",
    "    plt.show()\n",
    "    x = x + .2"
   ]
  }
 ],
 "metadata": {
  "anaconda-cloud": {},
  "kernelspec": {
   "display_name": "Python [default]",
   "language": "python",
   "name": "python2"
  },
  "language_info": {
   "codemirror_mode": {
    "name": "ipython",
    "version": 2
   },
   "file_extension": ".py",
   "mimetype": "text/x-python",
   "name": "python",
   "nbconvert_exporter": "python",
   "pygments_lexer": "ipython2",
   "version": "2.7.12"
  }
 },
 "nbformat": 4,
 "nbformat_minor": 0
}
