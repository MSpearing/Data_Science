{
 "cells": [
  {
   "cell_type": "code",
   "execution_count": 1,
   "metadata": {
    "collapsed": true
   },
   "outputs": [],
   "source": [
    "import pandas as pd\n",
    "from pandas.tools.plotting import scatter_matrix\n",
    "import matplotlib.pyplot as plt\n",
    "%matplotlib inline\n",
    "from sklearn.linear_model import LogisticRegression"
   ]
  },
  {
   "cell_type": "code",
   "execution_count": 2,
   "metadata": {
    "collapsed": false
   },
   "outputs": [
    {
     "name": "stdout",
     "output_type": "stream",
     "text": [
      "   ACTION  RESOURCE  MGR_ID  ROLE_ROLLUP_1  ROLE_ROLLUP_2  ROLE_DEPTNAME  \\\n",
      "0       1     39353   85475         117961         118300         123472   \n",
      "1       1     17183    1540         117961         118343         123125   \n",
      "2       1     36724   14457         118219         118220         117884   \n",
      "3       1     36135    5396         117961         118343         119993   \n",
      "4       1     42680    5905         117929         117930         119569   \n",
      "\n",
      "   ROLE_TITLE  ROLE_FAMILY_DESC  ROLE_FAMILY  ROLE_CODE  \n",
      "0      117905            117906       290919     117908  \n",
      "1      118536            118536       308574     118539  \n",
      "2      117879            267952        19721     117880  \n",
      "3      118321            240983       290919     118322  \n",
      "4      119323            123932        19793     119325  \n"
     ]
    }
   ],
   "source": [
    "# Read the data in to a DataFrame\n",
    "data = pd.read_csv(\"./train.csv\")\n",
    "print(data.head())\n"
   ]
  },
  {
   "cell_type": "code",
   "execution_count": 3,
   "metadata": {
    "collapsed": false
   },
   "outputs": [],
   "source": [
    "X = data.iloc[:,1:]\n",
    "y = data.iloc[:,0]"
   ]
  },
  {
   "cell_type": "code",
   "execution_count": 4,
   "metadata": {
    "collapsed": false
   },
   "outputs": [
    {
     "name": "stdout",
     "output_type": "stream",
     "text": [
      "Logistic Regression Score:\n",
      "0.942109920962\n"
     ]
    }
   ],
   "source": [
    "model = LogisticRegression()\n",
    "model.fit(X,y)\n",
    "print(\"Logistic Regression Score:\")\n",
    "print(model.score(X,y))"
   ]
  },
  {
   "cell_type": "code",
   "execution_count": 5,
   "metadata": {
    "collapsed": false
   },
   "outputs": [
    {
     "name": "stdout",
     "output_type": "stream",
     "text": [
      "Null Error Rate\n",
      "0.942109920962\n"
     ]
    }
   ],
   "source": [
    "# What is the null error rate\n",
    "print(\"Null Error Rate\")\n",
    "print(y.mean())"
   ]
  },
  {
   "cell_type": "markdown",
   "metadata": {},
   "source": [
    "In this scenario, the logistic regression is simply guessing 1 for every datapoint. 94% of the time the action was 1. Thus, the LR can be right 94% of the time by guessing 1. Can we beat this?"
   ]
  },
  {
   "cell_type": "code",
   "execution_count": 6,
   "metadata": {
    "collapsed": false,
    "scrolled": true
   },
   "outputs": [
    {
     "name": "stdout",
     "output_type": "stream",
     "text": [
      "Score for RESOURCE:\n",
      "0.942109920962\n",
      "Score for MGR_ID:\n",
      "0.942109920962\n",
      "Score for ROLE_ROLLUP_1:\n",
      "0.942109920962\n",
      "Score for ROLE_ROLLUP_2:\n",
      "0.942109920962\n",
      "Score for ROLE_DEPTNAME:\n",
      "0.942109920962\n",
      "Score for ROLE_TITLE:\n",
      "0.942109920962\n",
      "Score for ROLE_FAMILY_DESC:\n",
      "0.942109920962\n",
      "Score for ROLE_FAMILY:\n",
      "0.942109920962\n",
      "Score for ROLE_CODE:\n",
      "0.942109920962\n"
     ]
    }
   ],
   "source": [
    "# Lets try doing each column.\n",
    "for column in X.columns.values:\n",
    "    X_one = X.loc[:,column].reshape(-1,1)\n",
    "    model = LogisticRegression()\n",
    "    model.fit(X_one, y)\n",
    "    print(\"Score for \" + column + \":\")\n",
    "    print(model.score(X_one,y))"
   ]
  },
  {
   "cell_type": "markdown",
   "metadata": {},
   "source": [
    "Using any one feature yielded the same results. Lets try a combination of features."
   ]
  },
  {
   "cell_type": "code",
   "execution_count": null,
   "metadata": {
    "collapsed": false
   },
   "outputs": [],
   "source": [
    "for column1 in X.columns.values:\n",
    "    for column2 in X.columns.values:\n",
    "        if(column1 == column2):\n",
    "            continue\n",
    "        else:\n",
    "            X_two = X.loc[:,[column1, column2]]\n",
    "            model = LogisticRegression()\n",
    "            model.fit(X_two,y)\n",
    "            score = model.score(X_two,y)\n",
    "            if(score > y.mean()):\n",
    "                print(\"Logistic Regression for: \" + str(X_two.columns.values))\n",
    "                print(score)\n",
    "            "
   ]
  },
  {
   "cell_type": "code",
   "execution_count": null,
   "metadata": {
    "collapsed": true
   },
   "outputs": [],
   "source": [
    "for column1 in X.columns.values:\n",
    "    for column2 in X.columns.values:\n",
    "        for column3 in X.columns.values:\n",
    "            if(column1 == column2):\n",
    "                continue;\n",
    "            if(column1 == column3):\n",
    "                continue\n",
    "            if(column2 == column3):\n",
    "                continue;\n",
    "            else:\n",
    "                X_three = X.loc[:,[column1, column2,column3]]\n",
    "                model = LogisticRegression()\n",
    "                model.fit(X_three,y)\n",
    "                score = model.score(X_three,y)\n",
    "                if(score > y.mean()):\n",
    "                    print(\"Logistic Regression for: \" + str(X_three.columns.values))\n",
    "                    print(score)\n",
    "            "
   ]
  },
  {
   "cell_type": "code",
   "execution_count": null,
   "metadata": {
    "collapsed": false
   },
   "outputs": [],
   "source": [
    "for column1 in X.columns.values:\n",
    "    print(column1)\n",
    "    for column2 in X.columns.values:\n",
    "        for column3 in X.columns.values:\n",
    "            for column4 in X.columns.values:\n",
    "                if(column1 == column2):\n",
    "                    continue;\n",
    "                if(column1 == column3):\n",
    "                    continue\n",
    "                if(column1 == column4):\n",
    "                    continue\n",
    "                if(column2 == column3):\n",
    "                    continue;\n",
    "                if(column2 == column4):\n",
    "                    continue\n",
    "                if(column3 == column4):\n",
    "                    continue\n",
    "                else:\n",
    "                    X_four = X.loc[:,[column1, column2,column3, column4]]\n",
    "                    model = LogisticRegression()\n",
    "                    model.fit(X_four,y)\n",
    "                    score = model.score(X_four,y)\n",
    "                    if(score > y.mean()):\n",
    "                        print(\"Logistic Regression for: \" + str(X_four.columns.values))\n",
    "                        print(score)\n"
   ]
  },
  {
   "cell_type": "markdown",
   "metadata": {},
   "source": [
    "No combination of features, up to 4 featues is generating a logistic regression model that is better than predicting 1 for all entries. This code is expensive beecause it runs through each possible combination, with duplicates. I could have done it in 1/2 the time."
   ]
  },
  {
   "cell_type": "code",
   "execution_count": null,
   "metadata": {
    "collapsed": false,
    "scrolled": false
   },
   "outputs": [],
   "source": [
    "X_one_hot = X\n",
    "for column in X.columns.values:\n",
    "    if column == \"ROLE_CODE\":\n",
    "        continue\n",
    "    X_dummies = pd.get_dummies(X.loc[:,\"RESOURCE\"])\n",
    "    print(X_dummies.head())\n",
    "    X_one_hot = pd.concat((X_one_hot,X_dummies), axis=1)\n",
    "    print(\"Done wit: \" + column)"
   ]
  },
  {
   "cell_type": "code",
   "execution_count": null,
   "metadata": {
    "collapsed": false
   },
   "outputs": [],
   "source": [
    "model = LogisticRegression()\n",
    "model.fit(X_one_hot,y)\n",
    "print(model.score(X_one_hot,y))"
   ]
  },
  {
   "cell_type": "code",
   "execution_count": 8,
   "metadata": {
    "collapsed": false
   },
   "outputs": [
    {
     "name": "stdout",
     "output_type": "stream",
     "text": [
      "RESOURCE\t7518/32769\n",
      "0.229424150874\n",
      "MGR_ID\t4243/32769\n",
      "0.129482132503\n",
      "ROLE_ROLLUP_1\t128/32769\n",
      "0.00390613079435\n",
      "ROLE_ROLLUP_2\t177/32769\n",
      "0.00540144648906\n",
      "ROLE_DEPTNAME\t449/32769\n",
      "0.013701974427\n",
      "ROLE_TITLE\t343/32769\n",
      "0.010467209863\n",
      "ROLE_FAMILY_DESC\t2358/32769\n",
      "0.0719582532271\n",
      "ROLE_FAMILY\t67/32769\n",
      "0.00204461533767\n"
     ]
    }
   ],
   "source": [
    "for column in X.columns.values:\n",
    "    print(column + \"\\t\" + str(len(X.loc[:,column].unique())) + \"/\" + str(len(X.loc[:,column])))\n",
    "    print(len(X.loc[:,column].unique()) / float(len(X.loc[:,column])))"
   ]
  },
  {
   "cell_type": "code",
   "execution_count": null,
   "metadata": {
    "collapsed": true
   },
   "outputs": [],
   "source": []
  }
 ],
 "metadata": {
  "anaconda-cloud": {},
  "kernelspec": {
   "display_name": "Python [default]",
   "language": "python",
   "name": "python2"
  },
  "language_info": {
   "codemirror_mode": {
    "name": "ipython",
    "version": 2
   },
   "file_extension": ".py",
   "mimetype": "text/x-python",
   "name": "python",
   "nbconvert_exporter": "python",
   "pygments_lexer": "ipython2",
   "version": "2.7.12"
  }
 },
 "nbformat": 4,
 "nbformat_minor": 1
}
